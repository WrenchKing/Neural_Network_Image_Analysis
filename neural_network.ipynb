{
 "cells": [
  {
   "cell_type": "code",
   "execution_count": 9,
   "metadata": {},
   "outputs": [
    {
     "name": "stdout",
     "output_type": "stream",
     "text": [
      "(277, 280, 4)\n"
     ]
    }
   ],
   "source": [
    "import numpy as np\n",
    "from skimage import io\n",
    "import matplotlib.pyplot as plt\n",
    "import scipy\n",
    "\n"
   ]
  },
  {
   "cell_type": "code",
   "execution_count": 44,
   "metadata": {},
   "outputs": [
    {
     "name": "stdout",
     "output_type": "stream",
     "text": [
      "<class 'numpy.ndarray'>\n"
     ]
    },
    {
     "data": {
      "image/png": "[encoded data removed]",
      "text/plain": [
       "<Figure size 720x720 with 1 Axes>"
      ]
     },
     "metadata": {
      "needs_background": "light"
     },
     "output_type": "display_data"
    }
   ],
   "source": [
    "# let's start by looking at a single image\n",
    "\n",
    "\n",
    "mean=[-5,-5]\n",
    "mean2=[5,5]\n",
    "cov=[[1,0],[0,1]]\n",
    "cov2=[[2,-1],[-1,5]]\n",
    "\n",
    "x,y=np.random.multivariate_normal(mean,cov,50).T\n",
    "\n",
    "x2,y2=np.random.multivariate_normal(mean2,cov2,50).T\n",
    "\n",
    "\n",
    "x=np.concatenate((np.asarray(x),np.asarray(x2)))\n",
    "y=np.concatenate((np.asarray(y),np.asarray(y2)))\n",
    "\n",
    "\n",
    "x=(x-np.mean(x))/np.std(x)\n",
    "y=(y-np.mean(y))/np.std(y)\n",
    "\n",
    "\n",
    "\n",
    "\n",
    "axis = (-5,5);\n",
    "f, ax = plt.subplots(ncols=1, figsize=(10,10))\n",
    "\n",
    "ax.plot(x,y, 'x')\n",
    "ax.set(title='Random Scatter')\n"
   ]
  },
  {
   "cell_type": "code",
   "execution_count": 47,
   "metadata": {},
   "outputs": [
    {
     "name": "stdout",
     "output_type": "stream",
     "text": [
      "(4, 3)\n",
      "(2, 4)\n"
     ]
    }
   ],
   "source": [
    "from math import sqrt\n",
    "class node():\n",
    "    def __init__(self,layer_value):\n",
    "        self.value=0.01\n",
    "        self.forward_connections=[]\n",
    "        self.backward_connections=[]\n",
    "        self.layer=layer_value\n",
    "    def update_value(self,value):\n",
    "        self.value=value\n",
    "\n",
    "hidden_count=4\n",
    "input_count=3\n",
    "output_count=2\n",
    "\n",
    "input_nodes=[node(1)]*input_count\n",
    "hidden_nodes=[node(2)]*hidden_count\n",
    "output_nodes=[node(3)]*output_count\n",
    "\n",
    "#node 0 is x values, node 1 is y values, node 2 is bias\n",
    "for i in range(len(x)):\n",
    "    input_nodes[0].update_value(x[i])\n",
    "    input_nodes[1].update_value(y[i])\n",
    "    \n",
    "input_to_hidden_weights=np.random.normal(0,sqrt(2/(input_count)),(hidden_count,input_count))\n",
    "print(input_to_hidden_weights.shape)\n",
    "\n",
    "hidden_to_output_weights=np.random.normal(0,sqrt(2/(hidden_count)),(output_count,hidden_count))\n",
    "print(hidden_to_output_weights.shape)\n",
    "\n",
    "\n",
    "\n",
    "\n",
    "\n",
    "\n",
    "\n"
   ]
  }
 ],
 "metadata": {
  "kernelspec": {
   "display_name": "Python 3",
   "language": "python",
   "name": "python3"
  },
  "language_info": {
   "codemirror_mode": {
    "name": "ipython",
    "version": 3
   },
   "file_extension": ".py",
   "mimetype": "text/x-python",
   "name": "python",
   "nbconvert_exporter": "python",
   "pygments_lexer": "ipython3",
   "version": "3.6.7"
  }
 },
 "nbformat": 4,
 "nbformat_minor": 2
}
